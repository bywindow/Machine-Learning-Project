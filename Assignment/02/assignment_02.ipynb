{
  "nbformat": 4,
  "nbformat_minor": 0,
  "metadata": {
    "colab": {
      "name": "assignment_02.ipynb",
      "provenance": [],
      "collapsed_sections": []
    },
    "kernelspec": {
      "name": "python3",
      "display_name": "Python 3.8.8 64-bit ('base': conda)"
    },
    "language_info": {
      "name": "python",
      "version": "3.8.8",
      "mimetype": "text/x-python",
      "codemirror_mode": {
        "name": "ipython",
        "version": 3
      },
      "pygments_lexer": "ipython3",
      "nbconvert_exporter": "python",
      "file_extension": ".py"
    },
    "interpreter": {
      "hash": "dca0ade3e726a953b501b15e8e990130d2b7799f14cfd9f4271676035ebe5511"
    }
  },
  "cells": [
    {
      "cell_type": "markdown",
      "metadata": {
        "id": "K29I-OwCEYzW",
        "outputId": "db8b297c-a4b8-457a-b43f-7570135306c7"
      },
      "source": [
        "# Logistic regression for binary classification"
      ]
    },
    {
      "cell_type": "markdown",
      "metadata": {
        "id": "ZiM67VDzpPA1"
      },
      "source": [
        "## import libraries"
      ]
    },
    {
      "cell_type": "code",
      "metadata": {
        "id": "FXS0eYbmpPA2"
      },
      "source": [
        "import numpy as np\n",
        "import matplotlib.image as img\n",
        "import matplotlib.pyplot as plt\n",
        "import matplotlib.colors as colors\n",
        "import os"
      ],
      "execution_count": 1,
      "outputs": []
    },
    {
      "cell_type": "markdown",
      "metadata": {
        "id": "6kknkW_ApPA3"
      },
      "source": [
        "## load data"
      ]
    },
    {
      "cell_type": "code",
      "metadata": {
        "colab": {
          "base_uri": "https://localhost:8080/"
        },
        "id": "HDQyXQIHpPA3",
        "outputId": "4f3f3816-4389-4195-8bd0-e6f7add9f1be"
      },
      "source": [
        "directory_data  = './sample_data/'\n",
        "filename_data   = 'assignment_02_data.npz'\n",
        "data            = np.load(os.path.join(directory_data, filename_data))\n",
        "\n",
        "x = data['x']\n",
        "y = data['y']\n",
        "\n",
        "print('size of x (image) :', x.shape)\n",
        "print('size of y (label) :', y.shape)\n",
        "\n",
        "print('number of image :', x.shape[0])\n",
        "print('height of image :', x.shape[1])\n",
        "print('width of image :', x.shape[2])\n",
        "im_0    = x[0,:,:]\n",
        "im_1    = x[1,:,:]\n",
        "label_0 = y[0]\n",
        "label_1 = y[1]\n",
        "\n"
      ],
      "execution_count": 2,
      "outputs": [
        {
          "output_type": "stream",
          "name": "stdout",
          "text": [
            "size of x (image) : (2, 28, 28)\n",
            "size of y (label) : (2,)\n",
            "number of image : 2\n",
            "height of image : 28\n",
            "width of image : 28\n"
          ]
        }
      ]
    },
    {
      "cell_type": "markdown",
      "metadata": {
        "id": "lNIXeBEXpPA4"
      },
      "source": [
        "## plot data"
      ]
    },
    {
      "cell_type": "code",
      "metadata": {
        "id": "Zs7zI6PepPA4"
      },
      "source": [
        "def plot_data2(title1, data1, title2, data2):\n",
        "\n",
        "    fig = plt.figure(figsize=(8,4))\n",
        "\n",
        "    rows = 1\n",
        "    cols = 2\n",
        "\n",
        "    ax1 = fig.add_subplot(rows, cols, 1)\n",
        "    ax1.set_title(title1)\n",
        "    ax1.imshow(data1, cmap='gray', vmin=0, vmax=1)\n",
        "\n",
        "    ax2 = fig.add_subplot(rows, cols, 2)\n",
        "    ax2.set_title(title2)\n",
        "    ax2.imshow(data2, cmap='gray', vmin=0, vmax=1)\n",
        "\n",
        "    plt.tight_layout()\n",
        "    plt.show()"
      ],
      "execution_count": 3,
      "outputs": []
    },
    {
      "cell_type": "code",
      "metadata": {
        "colab": {
          "base_uri": "https://localhost:8080/",
          "height": 312
        },
        "id": "U0z3squLpPA5",
        "outputId": "21a99ac1-7b92-4bf6-a15e-6e1dd4c07aba"
      },
      "source": [
        "plot_data2('label: 0', im_0, 'label: 1', im_1)"
      ],
      "execution_count": 4,
      "outputs": [
        {
          "output_type": "display_data",
          "data": {
            "image/png": "[encoded data removed]",
            "text/plain": [
              "<Figure size 576x288 with 2 Axes>"
            ]
          },
          "metadata": {
            "needs_background": "light"
          }
        }
      ]
    },
    {
      "cell_type": "markdown",
      "metadata": {
        "id": "jOUe565gpPA5"
      },
      "source": [
        "## convert gray scale image to color"
      ]
    },
    {
      "cell_type": "code",
      "metadata": {
        "colab": {
          "base_uri": "https://localhost:8080/"
        },
        "id": "Jy3fg74LpPA6",
        "outputId": "3949b719-2d2d-4652-abf9-651061b5f034"
      },
      "source": [
        "im_0_red    = np.zeros((im_0.shape[0], im_0.shape[1], 3))\n",
        "im_0_green  = np.zeros((im_0.shape[0], im_0.shape[1], 3))\n",
        "im_0_blue   = np.zeros((im_0.shape[0], im_0.shape[1], 3))\n",
        "\n",
        "im_1_red    = np.zeros((im_1.shape[0], im_1.shape[1], 3))\n",
        "im_1_green  = np.zeros((im_1.shape[0], im_1.shape[1], 3))\n",
        "im_1_blue   = np.zeros((im_1.shape[0], im_1.shape[1], 3))\n",
        "\n",
        "im_0_red[:,:,0]     = im_0\n",
        "im_0_green[:,:,1]   = im_0\n",
        "im_0_blue[:,:,2]    = im_0\n",
        "\n",
        "im_1_red[:,:,0]     = im_1\n",
        "im_1_green[:,:,1]   = im_1\n",
        "im_1_blue[:,:,2]    = im_1\n",
        "\n",
        "print(im_0_red.shape)\n",
        "print(im_0_green.shape)\n",
        "print(im_0_blue.shape)\n",
        "\n",
        "print(im_1_red.shape)\n",
        "print(im_1_green.shape)\n",
        "print(im_1_blue.shape)\n"
      ],
      "execution_count": 5,
      "outputs": [
        {
          "output_type": "stream",
          "name": "stdout",
          "text": [
            "(28, 28, 3)\n",
            "(28, 28, 3)\n",
            "(28, 28, 3)\n",
            "(28, 28, 3)\n",
            "(28, 28, 3)\n",
            "(28, 28, 3)\n"
          ]
        }
      ]
    },
    {
      "cell_type": "markdown",
      "metadata": {
        "id": "k1F5kblDpPA6"
      },
      "source": [
        "## plot color data"
      ]
    },
    {
      "cell_type": "code",
      "metadata": {
        "id": "oAJO2tttpPA6"
      },
      "source": [
        "def plot_data_color3(title1, data1, title2, data2, title3, data3):\n",
        "\n",
        "    fig, axes = plt.subplots(1, 3, constrained_layout=True, figsize=(12, 4))\n",
        "\n",
        "    axes[0].imshow(data1, vmin=0, vmax=1)\n",
        "    axes[0].set(title=title1)\n",
        "    \n",
        "    axes[1].imshow(data2, vmin=0, vmax=1)\n",
        "    axes[1].set(title=title2)\n",
        "    \n",
        "    axes[2].imshow(data3, vmin=0, vmax=1)\n",
        "    axes[2].set(title=title3)\n",
        "\n",
        "    plt.show()\n"
      ],
      "execution_count": null,
      "outputs": []
    },
    {
      "cell_type": "code",
      "metadata": {
        "id": "RpuCn9zIpPA7"
      },
      "source": [
        "plot_data_color3('im 0: red', im_0_red, 'im 0: green', im_0_green, 'im 0: blue', im_0_blue)"
      ],
      "execution_count": null,
      "outputs": []
    },
    {
      "cell_type": "code",
      "metadata": {
        "id": "BuCtztvipPA7"
      },
      "source": [
        "plot_data_color3('im 1: red', im_1_red, 'im 1: green', im_1_green, 'im 1: blue', im_1_blue)"
      ],
      "execution_count": null,
      "outputs": []
    },
    {
      "cell_type": "markdown",
      "metadata": {
        "id": "Z4WuVHtWpPA7"
      },
      "source": [
        "## linear layer"
      ]
    },
    {
      "cell_type": "code",
      "metadata": {
        "id": "Ez5TAOhdpPA7"
      },
      "source": [
        "def layer_linear(input, weight):\n",
        "    \n",
        "    # fill in the function body\n",
        "    output =\n",
        "    # -------------------------\n",
        "\n",
        "    return output"
      ],
      "execution_count": null,
      "outputs": []
    },
    {
      "cell_type": "markdown",
      "metadata": {
        "id": "pvUMHucHpPA7"
      },
      "source": [
        "## [git commit # 01] % git commit -a -m \"complete the function for linear layer\""
      ]
    },
    {
      "cell_type": "markdown",
      "metadata": {
        "id": "I67YmSj5pPA8"
      },
      "source": [
        "## activation function : Sigmoid"
      ]
    },
    {
      "cell_type": "code",
      "metadata": {
        "id": "1qIQjIaupPA8"
      },
      "source": [
        "def activation_sigmoid(input):\n",
        "    \n",
        "    # fill in the function body\n",
        "    output = \n",
        "    # -------------------------\n",
        "\n",
        "    return output"
      ],
      "execution_count": null,
      "outputs": []
    },
    {
      "cell_type": "markdown",
      "metadata": {
        "id": "yHT3pArIpPA8"
      },
      "source": [
        "## [git commit # 02] % git commit -a -m \"complete the function for the sigmoid activation\""
      ]
    },
    {
      "cell_type": "markdown",
      "metadata": {
        "id": "yKHVbK5IpPA8"
      },
      "source": [
        "## forward propagation "
      ]
    },
    {
      "cell_type": "code",
      "metadata": {
        "id": "rp6V0tG2pPA8"
      },
      "source": [
        "def propagation_forward(input, weight):\n",
        "    \n",
        "    # fill in the function body\n",
        "    output      = \n",
        "    prediction  = \n",
        "    # -------------------------\n",
        "\n",
        "    return prediction"
      ],
      "execution_count": null,
      "outputs": []
    },
    {
      "cell_type": "markdown",
      "metadata": {
        "id": "39jis87dpPA8"
      },
      "source": [
        "## [git commit # 03] % git commit -a -m \"complete the function for the forward propagation\""
      ]
    },
    {
      "cell_type": "markdown",
      "metadata": {
        "id": "OpVAmHZRpPA8"
      },
      "source": [
        "## compute loss function"
      ]
    },
    {
      "cell_type": "code",
      "metadata": {
        "id": "NtHvQgT0pPA9"
      },
      "source": [
        "def compute_loss(input, weight, label):\n",
        "\n",
        "    # fill in the function body\n",
        "    prediction      = \n",
        "    loss            = \n",
        "    loss_average    = \n",
        "    # -------------------------\n",
        "\n",
        "    return loss_average"
      ],
      "execution_count": null,
      "outputs": []
    },
    {
      "cell_type": "markdown",
      "metadata": {
        "id": "wAP6o8cKpPA9"
      },
      "source": [
        "## [git commit # 04] % git commit -a -m \"complete the function for the loss\""
      ]
    },
    {
      "cell_type": "markdown",
      "metadata": {
        "id": "nXUkuLe2pPA9"
      },
      "source": [
        "## compute gradient"
      ]
    },
    {
      "cell_type": "code",
      "metadata": {
        "id": "w1-sIgXjpPA9"
      },
      "source": [
        "def compute_gradient(input, weight, label):\n",
        "\n",
        "    # fill in the function body\n",
        "    prediction  = \n",
        "    residual    = \n",
        "    gradient    = \n",
        "    # -------------------------\n",
        "\n",
        "    return gradient"
      ],
      "execution_count": null,
      "outputs": []
    },
    {
      "cell_type": "markdown",
      "metadata": {
        "id": "jOzqRpuEpPA9"
      },
      "source": [
        "## [git commit # 05] % git commit -a -m \"complete the function for the computation of gradient\""
      ]
    },
    {
      "cell_type": "markdown",
      "metadata": {
        "id": "7ii-T1E-pPA9"
      },
      "source": [
        "## initialize weight"
      ]
    },
    {
      "cell_type": "code",
      "metadata": {
        "id": "ztO_7snBpPA9"
      },
      "source": [
        "weight  = np.ones(np.prod(im_0.shape))\n",
        "weight  = weight * 0.001\n",
        "\n",
        "vector_0    = np.matrix.flatten(im_0)\n",
        "vector_1    = np.matrix.flatten(im_1)\n",
        "\n",
        "input   = [vector_0, vector_1]\n",
        "label   = y"
      ],
      "execution_count": null,
      "outputs": []
    },
    {
      "cell_type": "markdown",
      "metadata": {
        "id": "UuKWkequpPA9"
      },
      "source": [
        "## hyper-parameters"
      ]
    },
    {
      "cell_type": "code",
      "metadata": {
        "id": "gSDHOWDypPA9"
      },
      "source": [
        "number_iteration    = 1000\n",
        "learning_rate       = 0.01"
      ],
      "execution_count": null,
      "outputs": []
    },
    {
      "cell_type": "markdown",
      "metadata": {
        "id": "b6eV3D8fpPA-"
      },
      "source": [
        "## gradient descent"
      ]
    },
    {
      "cell_type": "code",
      "metadata": {
        "id": "tXJlhBVRpPA-"
      },
      "source": [
        "loss_iteration      = np.zeros(number_iteration)\n",
        "pred_0_iteration    = np.zeros(number_iteration) \n",
        "pred_1_iteration    = np.zeros(number_iteration) \n",
        "\n",
        "for i in range(number_iteration):\n",
        "\n",
        "    # fill in the function body\n",
        "    weight  = \n",
        "    loss    = \n",
        "    pred    = \n",
        "    # -------------------------\n",
        "\n",
        "    loss_iteration[i]   = loss\n",
        "    pred_0_iteration[i] = pred[0]\n",
        "    pred_1_iteration[i] = pred[1]\n",
        "    \n",
        "    # print('iteration = %4d, loss = %5.5f' % (i, loss))"
      ],
      "execution_count": null,
      "outputs": []
    },
    {
      "cell_type": "markdown",
      "metadata": {
        "id": "ZFfT5ZjUpPA-"
      },
      "source": [
        "## [git commit # 06] % git commit -a -m \"complete the function for the gradient descent\""
      ]
    },
    {
      "cell_type": "markdown",
      "metadata": {
        "id": "Gi1lTU8gpPA-"
      },
      "source": [
        "## plot learning curve"
      ]
    },
    {
      "cell_type": "code",
      "metadata": {
        "id": "2Gr8m6kMpPA-"
      },
      "source": [
        "def plot_curve(title, data):\n",
        "\n",
        "    plt.figure(figsize=(8, 6))\n",
        "    plt.title(title)\n",
        "\n",
        "    plt.plot(data, '-', color='red')\n",
        "    plt.xlabel('iteration')\n",
        "    plt.ylabel('loss')\n",
        "\n",
        "    plt.tight_layout()\n",
        "    plt.show()"
      ],
      "execution_count": null,
      "outputs": []
    },
    {
      "cell_type": "code",
      "metadata": {
        "id": "ycGuLESKpPA-"
      },
      "source": [
        "plot_curve('loss', loss_iteration)"
      ],
      "execution_count": null,
      "outputs": []
    },
    {
      "cell_type": "markdown",
      "metadata": {
        "id": "M7HpCJtppPA_"
      },
      "source": [
        "## plot prediction values"
      ]
    },
    {
      "cell_type": "code",
      "metadata": {
        "id": "BpCOPg-xpPA_"
      },
      "source": [
        "def plot_curve2(title, data1, label1, data2, label2):\n",
        "\n",
        "\n",
        "    fig = plt.figure(figsize=(8,6))\n",
        "    plt.title(title)\n",
        "\n",
        "    plt.plot(data1, '-', color='blue', label=label1)\n",
        "    plt.plot(data2, '-', color='red', label=label2)\n",
        "    plt.legend()\n",
        "    plt.tight_layout()\n",
        "\n",
        "    plt.show()"
      ],
      "execution_count": null,
      "outputs": []
    },
    {
      "cell_type": "code",
      "metadata": {
        "id": "CEykoWsFpPA_"
      },
      "source": [
        "plot_curve2('prediction', pred_0_iteration, 'im 0', pred_1_iteration, 'im 1')"
      ],
      "execution_count": null,
      "outputs": []
    },
    {
      "cell_type": "markdown",
      "metadata": {
        "id": "J0ERq5iEpPA_"
      },
      "source": [
        "## given iterations at which the values are presented"
      ]
    },
    {
      "cell_type": "code",
      "metadata": {
        "id": "iltMEAkVpPA_"
      },
      "source": [
        "iter0   = 0\n",
        "iter1   = 100\n",
        "iter2   = 200\n",
        "iter3   = 300\n",
        "iter4   = 400\n",
        "iter5   = 500\n",
        "iter6   = 600\n",
        "iter7   = 700\n",
        "iter8   = 800\n",
        "iter9   = 900\n"
      ],
      "execution_count": null,
      "outputs": []
    },
    {
      "cell_type": "markdown",
      "metadata": {
        "id": "p4WOywM0pPA_"
      },
      "source": [
        "## loss values"
      ]
    },
    {
      "cell_type": "code",
      "metadata": {
        "id": "bPTcSOtcpPA_"
      },
      "source": [
        "print('iteration = %4d, loss = %12.10f' % (iter0, loss_iteration[iter0]))\n",
        "print('iteration = %4d, loss = %12.10f' % (iter1, loss_iteration[iter1]))\n",
        "print('iteration = %4d, loss = %12.10f' % (iter2, loss_iteration[iter2]))\n",
        "print('iteration = %4d, loss = %12.10f' % (iter3, loss_iteration[iter3]))\n",
        "print('iteration = %4d, loss = %12.10f' % (iter4, loss_iteration[iter4]))\n",
        "print('iteration = %4d, loss = %12.10f' % (iter5, loss_iteration[iter5]))\n",
        "print('iteration = %4d, loss = %12.10f' % (iter6, loss_iteration[iter6]))\n",
        "print('iteration = %4d, loss = %12.10f' % (iter7, loss_iteration[iter7]))\n",
        "print('iteration = %4d, loss = %12.10f' % (iter8, loss_iteration[iter8]))\n",
        "print('iteration = %4d, loss = %12.10f' % (iter9, loss_iteration[iter9]))"
      ],
      "execution_count": null,
      "outputs": []
    },
    {
      "cell_type": "markdown",
      "metadata": {
        "id": "gae0EsxxpPA_"
      },
      "source": [
        "## prediction values for im_0"
      ]
    },
    {
      "cell_type": "code",
      "metadata": {
        "id": "Gz_XXmUOpPBA"
      },
      "source": [
        "print('iteration = %4d, pred im0 = %12.10f' % (iter0, pred_0_iteration[iter0]))\n",
        "print('iteration = %4d, pred im0 = %12.10f' % (iter1, pred_0_iteration[iter1]))\n",
        "print('iteration = %4d, pred im0 = %12.10f' % (iter2, pred_0_iteration[iter2]))\n",
        "print('iteration = %4d, pred im0 = %12.10f' % (iter3, pred_0_iteration[iter3]))\n",
        "print('iteration = %4d, pred im0 = %12.10f' % (iter4, pred_0_iteration[iter4]))\n",
        "print('iteration = %4d, pred im0 = %12.10f' % (iter5, pred_0_iteration[iter5]))\n",
        "print('iteration = %4d, pred im0 = %12.10f' % (iter6, pred_0_iteration[iter6]))\n",
        "print('iteration = %4d, pred im0 = %12.10f' % (iter7, pred_0_iteration[iter7]))\n",
        "print('iteration = %4d, pred im0 = %12.10f' % (iter8, pred_0_iteration[iter8]))\n",
        "print('iteration = %4d, pred im0 = %12.10f' % (iter9, pred_0_iteration[iter9]))"
      ],
      "execution_count": null,
      "outputs": []
    },
    {
      "cell_type": "markdown",
      "metadata": {
        "id": "GosFEPv-pPBA"
      },
      "source": [
        "## prediction values for im_1"
      ]
    },
    {
      "cell_type": "code",
      "metadata": {
        "id": "d_2HDLmTpPBA"
      },
      "source": [
        "print('iteration = %4d, pred im1 = %12.10f' % (iter0, pred_1_iteration[iter0]))\n",
        "print('iteration = %4d, pred im1 = %12.10f' % (iter1, pred_1_iteration[iter1]))\n",
        "print('iteration = %4d, pred im1 = %12.10f' % (iter2, pred_1_iteration[iter2]))\n",
        "print('iteration = %4d, pred im1 = %12.10f' % (iter3, pred_1_iteration[iter3]))\n",
        "print('iteration = %4d, pred im1 = %12.10f' % (iter4, pred_1_iteration[iter4]))\n",
        "print('iteration = %4d, pred im1 = %12.10f' % (iter5, pred_1_iteration[iter5]))\n",
        "print('iteration = %4d, pred im1 = %12.10f' % (iter6, pred_1_iteration[iter6]))\n",
        "print('iteration = %4d, pred im1 = %12.10f' % (iter7, pred_1_iteration[iter7]))\n",
        "print('iteration = %4d, pred im1 = %12.10f' % (iter8, pred_1_iteration[iter8]))\n",
        "print('iteration = %4d, pred im1 = %12.10f' % (iter9, pred_1_iteration[iter9]))"
      ],
      "execution_count": null,
      "outputs": []
    },
    {
      "cell_type": "code",
      "metadata": {
        "id": "AtZgAAdCpPBA"
      },
      "source": [
        "def function_result_01(*args):\n",
        "\n",
        "    pass"
      ],
      "execution_count": null,
      "outputs": []
    },
    {
      "cell_type": "markdown",
      "metadata": {
        "id": "PYhtgkUupPBA"
      },
      "source": [
        "## [git commit # 07] % git commit -a -m \"complete the function for the function result 01\""
      ]
    },
    {
      "cell_type": "code",
      "metadata": {
        "id": "qS1OSfLPpPBA"
      },
      "source": [
        "def function_result_02(*args):\n",
        "\n",
        "    pass"
      ],
      "execution_count": null,
      "outputs": []
    },
    {
      "cell_type": "markdown",
      "metadata": {
        "id": "2x9j7dA3pPBA"
      },
      "source": [
        "## [git commit # 08] % git commit -a -m \"complete the function for the function result 02\""
      ]
    },
    {
      "cell_type": "code",
      "metadata": {
        "id": "DwoTEhxLpPBA"
      },
      "source": [
        "def function_result_03(*args):\n",
        "    \n",
        "    pass"
      ],
      "execution_count": null,
      "outputs": []
    },
    {
      "cell_type": "markdown",
      "metadata": {
        "id": "OnC1L3VWpPBB"
      },
      "source": [
        "## [git commit # 09] % git commit -a -m \"complete the function for the function result 03\""
      ]
    },
    {
      "cell_type": "code",
      "metadata": {
        "id": "CP_DH_VupPBB"
      },
      "source": [
        "def function_result_04(*args):\n",
        "\n",
        "    pass"
      ],
      "execution_count": null,
      "outputs": []
    },
    {
      "cell_type": "markdown",
      "metadata": {
        "id": "HPPcCPbbpPBB"
      },
      "source": [
        "## [git commit # 10] % git commit -a -m \"complete the function for the function result 04\""
      ]
    },
    {
      "cell_type": "code",
      "metadata": {
        "id": "spAd3X92pPBB"
      },
      "source": [
        "def function_result_05(*args):\n",
        "\n",
        "    pass"
      ],
      "execution_count": null,
      "outputs": []
    },
    {
      "cell_type": "markdown",
      "metadata": {
        "id": "054s79q3pPBB"
      },
      "source": [
        "## [git commit # 11] % git commit -a -m \"complete the function for the function result 05\""
      ]
    },
    {
      "cell_type": "code",
      "metadata": {
        "id": "k1G666OBpPBB"
      },
      "source": [
        "def function_result_06(*args):\n",
        "\n",
        "    pass"
      ],
      "execution_count": null,
      "outputs": []
    },
    {
      "cell_type": "markdown",
      "metadata": {
        "id": "7pCVWpFspPBB"
      },
      "source": [
        "## [git commit # 12] % git commit -a -m \"complete the function for the function result 06\""
      ]
    },
    {
      "cell_type": "code",
      "metadata": {
        "id": "TDrdkA0KpPBB"
      },
      "source": [
        "def function_result_07(*args):\n",
        "\n",
        "    pass"
      ],
      "execution_count": null,
      "outputs": []
    },
    {
      "cell_type": "markdown",
      "metadata": {
        "id": "tMN5qrVjpPBB"
      },
      "source": [
        "## [git commit # 13] % git commit -a -m \"complete the function for the function result 07\""
      ]
    },
    {
      "cell_type": "markdown",
      "metadata": {
        "id": "d2E-QEFxpPBB"
      },
      "source": [
        "---"
      ]
    },
    {
      "cell_type": "markdown",
      "metadata": {
        "id": "zVd6XuzgpPBB"
      },
      "source": [
        "# RESULTS"
      ]
    },
    {
      "cell_type": "markdown",
      "metadata": {
        "id": "QiQ9WVQMpPBC"
      },
      "source": [
        "---"
      ]
    },
    {
      "cell_type": "markdown",
      "metadata": {
        "id": "HWJcW4JipPBC"
      },
      "source": [
        "## # 01. plot the input images (left: image 0, right: image 1)"
      ]
    },
    {
      "cell_type": "code",
      "metadata": {
        "id": "b0tDq78CpPBC"
      },
      "source": [
        "function_result_01(...)"
      ],
      "execution_count": null,
      "outputs": []
    },
    {
      "cell_type": "markdown",
      "metadata": {
        "id": "KzcjIQmQpPBC"
      },
      "source": [
        "## # 02. plot the loss curve (x-axis: iteration, y-axis: loss)"
      ]
    },
    {
      "cell_type": "code",
      "metadata": {
        "id": "3E77ADKYpPBC"
      },
      "source": [
        "function_result_02(...)"
      ],
      "execution_count": null,
      "outputs": []
    },
    {
      "cell_type": "markdown",
      "metadata": {
        "id": "JoqS0pkupPBC"
      },
      "source": [
        "## # 03. plot the prediction value for image 0 (x-axis: iteration, y-axis: prediction)"
      ]
    },
    {
      "cell_type": "code",
      "metadata": {
        "id": "Pzo9bosTpPBC"
      },
      "source": [
        "function_result_03(...)"
      ],
      "execution_count": null,
      "outputs": []
    },
    {
      "cell_type": "markdown",
      "metadata": {
        "id": "sz5JZUjypPBC"
      },
      "source": [
        "## # 04. plot the prediction value for image 1 (x-axis: iteration, y-axis: prediction)"
      ]
    },
    {
      "cell_type": "code",
      "metadata": {
        "id": "34RUOaeopPBC"
      },
      "source": [
        "function_result_04(...)"
      ],
      "execution_count": null,
      "outputs": []
    },
    {
      "cell_type": "markdown",
      "metadata": {
        "id": "fb5HFRJrpPBC"
      },
      "source": [
        "## # 05. print the loss values at iterations 0, 100, 200, 300, 400, 500, 600, 700, 800, 900"
      ]
    },
    {
      "cell_type": "code",
      "metadata": {
        "id": "sGUGyRy4pPBC"
      },
      "source": [
        "function_result_05(...)"
      ],
      "execution_count": null,
      "outputs": []
    },
    {
      "cell_type": "markdown",
      "metadata": {
        "id": "HiGFsfigpPBD"
      },
      "source": [
        "## # 06. print the prediction values for image 0 at iterations 0, 100, 200, 300, 400, 500, 600, 700, 800, 900"
      ]
    },
    {
      "cell_type": "code",
      "metadata": {
        "id": "ukpYQF09pPBD"
      },
      "source": [
        "function_result_06(...)"
      ],
      "execution_count": null,
      "outputs": []
    },
    {
      "cell_type": "markdown",
      "metadata": {
        "id": "bcUczQukpPBD"
      },
      "source": [
        "## # 07. print the prediction values for image 1 at iterations 0, 100, 200, 300, 400, 500, 600, 700, 800, 900"
      ]
    },
    {
      "cell_type": "code",
      "metadata": {
        "id": "waG7_PBLpPBD"
      },
      "source": [
        "function_result_07(...)"
      ],
      "execution_count": null,
      "outputs": []
    }
  ]
}