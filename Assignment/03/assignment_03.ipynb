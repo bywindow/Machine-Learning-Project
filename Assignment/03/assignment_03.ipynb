{
  "nbformat": 4,
  "nbformat_minor": 0,
  "metadata": {
    "colab": {
      "name": "assignment_02.ipynb",
      "provenance": [],
      "collapsed_sections": []
    },
    "kernelspec": {
      "name": "python3",
      "display_name": "Python 3.8.8 64-bit ('base': conda)"
    },
    "language_info": {
      "name": "python",
      "version": "3.8.8",
      "mimetype": "text/x-python",
      "codemirror_mode": {
        "name": "ipython",
        "version": 3
      },
      "pygments_lexer": "ipython3",
      "nbconvert_exporter": "python",
      "file_extension": ".py"
    },
    "interpreter": {
      "hash": "dca0ade3e726a953b501b15e8e990130d2b7799f14cfd9f4271676035ebe5511"
    }
  },
  "cells": [
    {
      "cell_type": "markdown",
      "metadata": {
        "id": "K29I-OwCEYzW",
        "outputId": "db8b297c-a4b8-457a-b43f-7570135306c7"
      },
      "source": [
        "# Logistic regression for binary classification"
      ]
    },
    {
      "cell_type": "markdown",
      "metadata": {
        "id": "uxz2dTa9OF5O"
      },
      "source": [
        "## import libraries"
      ]
    },
    {
      "cell_type": "code",
      "metadata": {
        "id": "ipZWDaZJOF5O"
      },
      "source": [
        "import numpy as np\n",
        "import matplotlib.pyplot as plt\n",
        "import os\n",
        "from tqdm import tqdm"
      ],
      "execution_count": 8,
      "outputs": []
    },
    {
      "cell_type": "markdown",
      "metadata": {
        "id": "99VyOdEOOF5Q"
      },
      "source": [
        "## load data"
      ]
    },
    {
      "cell_type": "code",
      "metadata": {
        "colab": {
          "base_uri": "https://localhost:8080/"
        },
        "id": "ZnJc-JLjOF5R",
        "outputId": "c9aad555-b5ef-43f7-86cd-9f573ee3742d"
      },
      "source": [
        "directory_data  = './data/'\n",
        "filename_data   = 'assignment_03_data.npz'\n",
        "data            = np.load(os.path.join(directory_data, filename_data))\n",
        "\n",
        "x_train = data['x_train']\n",
        "y_train = data['y_train']\n",
        "\n",
        "x_test  = data['x_test']\n",
        "y_test  = data['y_test']\n",
        "\n",
        "print('*************************************************')\n",
        "print('size of x_train :', x_train.shape)\n",
        "print('size of y_train :', y_train.shape)\n",
        "print('*************************************************')\n",
        "print('size of x_test :', x_test.shape)\n",
        "print('size of y_test :', y_test.shape)\n",
        "print('*************************************************')\n",
        "print('number of training image :', x_train.shape[0])\n",
        "print('height of training image :', x_train.shape[1])\n",
        "print('width of training image :', x_train.shape[2])\n",
        "print('*************************************************')\n",
        "print('number of testing image :', x_test.shape[0])\n",
        "print('height of testing image :', x_test.shape[1])\n",
        "print('width of testing image :', x_test.shape[2])\n",
        "print('*************************************************')"
      ],
      "execution_count": 9,
      "outputs": [
        {
          "output_type": "stream",
          "name": "stdout",
          "text": [
            "*************************************************\n",
            "size of x_train : (10000, 28, 28)\n",
            "size of y_train : (10000,)\n",
            "*************************************************\n",
            "size of x_test : (1800, 28, 28)\n",
            "size of y_test : (1800,)\n",
            "*************************************************\n",
            "number of training image : 10000\n",
            "height of training image : 28\n",
            "width of training image : 28\n",
            "*************************************************\n",
            "number of testing image : 1800\n",
            "height of testing image : 28\n",
            "width of testing image : 28\n",
            "*************************************************\n"
          ]
        }
      ]
    },
    {
      "cell_type": "markdown",
      "metadata": {
        "id": "rnjSAVLiOF5S"
      },
      "source": [
        "```console\n",
        "\n",
        "$ git commit -m \"YOUR MESSAGE\" assignment_03.ipynb\n",
        "\n",
        "```"
      ]
    },
    {
      "cell_type": "markdown",
      "metadata": {
        "id": "P-18IGQXOF5T"
      },
      "source": [
        "## vectorize image data"
      ]
    },
    {
      "cell_type": "code",
      "metadata": {
        "colab": {
          "base_uri": "https://localhost:8080/"
        },
        "id": "NaR_62FZOF5T",
        "outputId": "5190355b-932b-4f2c-8751-6a47c94aed37"
      },
      "source": [
        "vector_x_train  = x_train.reshape(x_train.shape[0], x_train.shape[1] * x_train.shape[2])\n",
        "vector_x_test   = x_test.reshape(x_test.shape[0], x_test.shape[1] * x_test.shape[2])\n",
        "\n",
        "print(vector_x_train.shape)\n",
        "print(vector_x_test.shape)"
      ],
      "execution_count": 10,
      "outputs": [
        {
          "output_type": "stream",
          "name": "stdout",
          "text": [
            "(10000, 784)\n",
            "(1800, 784)\n"
          ]
        }
      ]
    },
    {
      "cell_type": "markdown",
      "metadata": {
        "id": "tDQNzwirOF5U"
      },
      "source": [
        "```console\n",
        "\n",
        "$ git commit -m \"YOUR MESSAGE\" assignment_03.ipynb\n",
        "\n",
        "```"
      ]
    },
    {
      "cell_type": "markdown",
      "metadata": {
        "id": "SN9KMU7DOF5U"
      },
      "source": [
        "## index for each class"
      ]
    },
    {
      "cell_type": "code",
      "metadata": {
        "id": "ArntbV66OF5U"
      },
      "source": [
        "index_train_0 = np.where(np.array(y_train) == 0)[0]\n",
        "index_train_1 = np.where(np.array(y_train) == 1)[0]\n",
        "\n",
        "index_test_0 = np.where(np.array(y_test) == 0)[0]\n",
        "index_test_1 = np.where(np.array(y_test) == 1)[0]"
      ],
      "execution_count": 11,
      "outputs": []
    },
    {
      "cell_type": "markdown",
      "metadata": {
        "id": "TozGnEfFOF5V"
      },
      "source": [
        "```console\n",
        "\n",
        "$ git commit -m \"YOUR MESSAGE\" assignment_03.ipynb\n",
        "\n",
        "```"
      ]
    },
    {
      "cell_type": "markdown",
      "metadata": {
        "id": "QllvetchOF5V"
      },
      "source": [
        "## plot data"
      ]
    },
    {
      "cell_type": "code",
      "metadata": {
        "id": "yEbAgwKcOF5V"
      },
      "source": [
        "def plot_data_grid(data, index_data, nRow, nCol):\n",
        "\n",
        "    fig, axes = plt.subplots(nRow, nCol, constrained_layout=True, figsize=(nCol * 3, nRow * 3))\n",
        "\n",
        "    for i in range(nRow):\n",
        "        for j in range(nCol):\n",
        "\n",
        "            k       = i * nCol + j\n",
        "            index   = index_data[k]\n",
        "\n",
        "            axes[i, j].imshow(data[index], cmap='gray', vmin=0, vmax=1)\n",
        "            axes[i, j].xaxis.set_visible(False)\n",
        "            axes[i, j].yaxis.set_visible(False)\n",
        "\n",
        "    plt.show()"
      ],
      "execution_count": 12,
      "outputs": []
    },
    {
      "cell_type": "code",
      "metadata": {
        "id": "wgaL0jUGOF5W"
      },
      "source": [
        "nRow    = 2\n",
        "nCol    = 4\n",
        "nPlot   = nRow * nCol"
      ],
      "execution_count": 13,
      "outputs": []
    },
    {
      "cell_type": "code",
      "metadata": {
        "id": "fcOPBcNbOF5W",
        "colab": {
          "base_uri": "https://localhost:8080/",
          "height": 456
        },
        "outputId": "1a220a76-fdd6-4810-b012-31c606446130"
      },
      "source": [
        "\n",
        "index_data_0 = np.array(range(nPlot))\n",
        "plot_data_grid(x_train, index_data_0, nRow, nCol)"
      ],
      "execution_count": 14,
      "outputs": [
        {
          "output_type": "display_data",
          "data": {
            "image/png": "[encoded data removed]",
            "text/plain": [
              "<Figure size 864x432 with 8 Axes>"
            ]
          },
          "metadata": {
            "needs_background": "light"
          }
        }
      ]
    },
    {
      "cell_type": "code",
      "metadata": {
        "id": "txQWlVHhOF5W",
        "colab": {
          "base_uri": "https://localhost:8080/",
          "height": 456
        },
        "outputId": "f56213ee-a321-428e-a983-f4db10ad6f08"
      },
      "source": [
        "index_data_1 = index_data_0 + 5000\n",
        "plot_data_grid(x_train, index_data_1, nRow, nCol)"
      ],
      "execution_count": 15,
      "outputs": [
        {
          "output_type": "display_data",
          "data": {
            "image/png": "[encoded data removed]",
            "text/plain": [
              "<Figure size 864x432 with 8 Axes>"
            ]
          },
          "metadata": {
            "needs_background": "light"
          }
        }
      ]
    },
    {
      "cell_type": "markdown",
      "metadata": {
        "id": "Tr3Dx8FaOF5W"
      },
      "source": [
        "```console\n",
        "\n",
        "$ git commit -m \"YOUR MESSAGE\" assignment_03.ipynb\n",
        "\n",
        "```"
      ]
    },
    {
      "cell_type": "markdown",
      "metadata": {
        "id": "J1un2dNUOF5W"
      },
      "source": [
        "## linear layer"
      ]
    },
    {
      "cell_type": "code",
      "metadata": {
        "id": "SPSMNPSvOF5X"
      },
      "source": [
        "def layer_linear(input, weight):\n",
        "\n",
        "    output = np.dot(input, weight)\n",
        "\n",
        "    return output # vector that shape is 10000 X 1"
      ],
      "execution_count": 16,
      "outputs": []
    },
    {
      "cell_type": "markdown",
      "metadata": {
        "id": "0sQ6waspOF5X"
      },
      "source": [
        "```console\n",
        "\n",
        "$ git commit -m \"YOUR MESSAGE\" assignment_03.ipynb\n",
        "\n",
        "```"
      ]
    },
    {
      "cell_type": "markdown",
      "metadata": {
        "id": "PfFqyT8ZOF5X"
      },
      "source": [
        "## activation function : Sigmoid"
      ]
    },
    {
      "cell_type": "code",
      "metadata": {
        "id": "LPnUEq41OF5X"
      },
      "source": [
        "def activation_sigmoid(input):\n",
        "\n",
        "    output = 1 / (1 + np.exp((-1) * input))\n",
        "    \n",
        "\n",
        "    return output"
      ],
      "execution_count": 17,
      "outputs": []
    },
    {
      "cell_type": "markdown",
      "metadata": {
        "id": "70p3ax5oOF5X"
      },
      "source": [
        "```console\n",
        "\n",
        "$ git commit -m \"YOUR MESSAGE\" assignment_03.ipynb\n",
        "\n",
        "```"
      ]
    },
    {
      "cell_type": "markdown",
      "metadata": {
        "id": "B8frdNw5OF5Y"
      },
      "source": [
        "## compute prediction by the forward propagation of the neural network"
      ]
    },
    {
      "cell_type": "code",
      "metadata": {
        "id": "_puYcYKEOF5Y"
      },
      "source": [
        "def compute_prediction(input, weight):\n",
        "\n",
        "    output      = layer_linear(input, weight)\n",
        "    prediction  = activation_sigmoid(output)\n",
        "\n",
        "    return prediction"
      ],
      "execution_count": 18,
      "outputs": []
    },
    {
      "cell_type": "markdown",
      "metadata": {
        "id": "4hLmWVcrOF5Y"
      },
      "source": [
        "```console\n",
        "\n",
        "$ git commit -m \"YOUR MESSAGE\" assignment_03.ipynb\n",
        "\n",
        "```"
      ]
    },
    {
      "cell_type": "markdown",
      "metadata": {
        "id": "1RmckbnAOF5Y"
      },
      "source": [
        "## compute loss function"
      ]
    },
    {
      "cell_type": "code",
      "metadata": {
        "id": "JHSucEcdOF5Y"
      },
      "source": [
        "def compute_loss(prediction, label):\n",
        "\n",
        "    loss            = (-1) * ((label *  np.log(prediction)) + (np.ones(label.shape)-label) * np.log(np.ones(prediction.shape)-prediction))\n",
        "    loss_average    = np.mean(loss)\n",
        "\n",
        "    return loss_average"
      ],
      "execution_count": 19,
      "outputs": []
    },
    {
      "cell_type": "markdown",
      "metadata": {
        "id": "1n-Mqm5sOF5Y"
      },
      "source": [
        "```console\n",
        "\n",
        "$ git commit -m \"YOUR MESSAGE\" assignment_03.ipynb\n",
        "\n",
        "```"
      ]
    },
    {
      "cell_type": "markdown",
      "metadata": {
        "id": "wvWPAgdpOF5Y"
      },
      "source": [
        "## compute gradient"
      ]
    },
    {
      "cell_type": "code",
      "metadata": {
        "id": "m86iRPNaOF5Y"
      },
      "source": [
        "def compute_gradient(input, prediction, label):\n",
        "\n",
        "    residual    = np.array(prediction - label)[0]\n",
        "    gradient    = residual * input\n",
        "\n",
        "    return gradient"
      ],
      "execution_count": 20,
      "outputs": []
    },
    {
      "cell_type": "markdown",
      "metadata": {
        "id": "WrLqKzo-OF5Z"
      },
      "source": [
        "```console\n",
        "\n",
        "$ git commit -m \"YOUR MESSAGE\" assignment_03.ipynb\n",
        "\n",
        "```"
      ]
    },
    {
      "cell_type": "markdown",
      "metadata": {
        "id": "hVRGHN19OF5Z"
      },
      "source": [
        "## compute accuracy"
      ]
    },
    {
      "cell_type": "code",
      "metadata": {
        "id": "pQvBJkn6OF5Z"
      },
      "source": [
        "def compute_accuracy(prediction, label):\n",
        "\n",
        "    threshold   = 0.5\n",
        "\n",
        "    bCorrect    = prediction / (threshold * threshold)\n",
        "    accuracy    = np.sum(bCorrect) / len(label)\n",
        "\n",
        "    return accuracy"
      ],
      "execution_count": 21,
      "outputs": []
    },
    {
      "cell_type": "markdown",
      "metadata": {
        "id": "y3UcTYYFOF5Z"
      },
      "source": [
        "```console\n",
        "\n",
        "$ git commit -m \"YOUR MESSAGE\" assignment_03.ipynb\n",
        "\n",
        "```"
      ]
    },
    {
      "cell_type": "markdown",
      "metadata": {
        "id": "KO6NyXWEOF5Z"
      },
      "source": [
        "## initialize weight"
      ]
    },
    {
      "cell_type": "code",
      "metadata": {
        "colab": {
          "base_uri": "https://localhost:8080/"
        },
        "id": "eAselcTvOF5a",
        "outputId": "bc4a6c9c-3447-4833-d183-503ace73dafb"
      },
      "source": [
        "length_weight   = vector_x_train.shape[1]\n",
        "weight          = np.ones(length_weight)\n",
        "weight          = weight * 0.001\n",
        "\n",
        "print('number of weights: ', length_weight)"
      ],
      "execution_count": 22,
      "outputs": [
        {
          "output_type": "stream",
          "name": "stdout",
          "text": [
            "number of weights:  784\n"
          ]
        }
      ]
    },
    {
      "cell_type": "markdown",
      "metadata": {
        "id": "EOIOxIiQOF5a"
      },
      "source": [
        "```console\n",
        "\n",
        "$ git commit -m \"YOUR MESSAGE\" assignment_03.ipynb\n",
        "\n",
        "```"
      ]
    },
    {
      "cell_type": "markdown",
      "metadata": {
        "id": "BVnVWMJ5OF5a"
      },
      "source": [
        "## hyper-parameters"
      ]
    },
    {
      "cell_type": "code",
      "metadata": {
        "id": "WWinK-_SOF5a"
      },
      "source": [
        "number_iteration    = 1000\n",
        "learning_rate       = 0.1"
      ],
      "execution_count": 23,
      "outputs": []
    },
    {
      "cell_type": "markdown",
      "metadata": {
        "id": "8B_XCfYbOF5a"
      },
      "source": [
        "## variables for optimization information"
      ]
    },
    {
      "cell_type": "code",
      "metadata": {
        "id": "Al4nptMeOF5a"
      },
      "source": [
        "loss_train_iteration        = np.zeros(number_iteration) #현재의 weight로 계산한 loss\n",
        "loss_test_iteration         = np.zeros(number_iteration) #현재의 weight로 테스트 데이터의 loss 계산\n",
        "\n",
        "accuracy_train_iteration    = np.zeros(number_iteration)\n",
        "accuracy_test_iteration     = np.zeros(number_iteration)\n",
        "\n",
        "pred_0_train_mean_iteration = np.zeros(number_iteration) # 0 이미지에 대한 prediction 평균\n",
        "pred_0_train_std_iteration  = np.zeros(number_iteration) # standard deviation\n",
        "pred_1_train_mean_iteration = np.zeros(number_iteration) \n",
        "pred_1_train_std_iteration  = np.zeros(number_iteration) \n",
        "\n",
        "pred_0_test_mean_iteration = np.zeros(number_iteration) \n",
        "pred_0_test_std_iteration  = np.zeros(number_iteration) \n",
        "pred_1_test_mean_iteration = np.zeros(number_iteration) \n",
        "pred_1_test_std_iteration  = np.zeros(number_iteration) "
      ],
      "execution_count": 24,
      "outputs": []
    },
    {
      "cell_type": "markdown",
      "metadata": {
        "id": "Ba4m1MG9OF5b"
      },
      "source": [
        "## gradient descent iterations"
      ]
    },
    {
      "cell_type": "code",
      "metadata": {
        "colab": {
          "base_uri": "https://localhost:8080/"
        },
        "id": "ohGGE1xmOF5b",
        "outputId": "38e6ac21-8ece-485c-f708-3b696b08a15d"
      },
      "source": [
        "for i in tqdm(range(number_iteration)):\n",
        "\n",
        "    prediction_train    = compute_prediction(vector_x_train, weight)\n",
        "    prediction_test     = compute_prediction(vector_x_test, weight)\n",
        "\n",
        "    gradient_train      = compute_gradient(vector_x_train, prediction_train, y_train)\n",
        "    weight              = weight - learning_rate * np.mean(gradient_train)\n",
        "\n",
        "    prediction_train    = compute_prediction(vector_x_train, weight)\n",
        "    prediction_test     = compute_prediction(vector_x_test, weight)\n",
        "\n",
        "    loss_train          = compute_loss(prediction_train, y_train)\n",
        "    loss_test           = compute_loss(prediction_test, y_test)\n",
        "\n",
        "    accuracy_train      = compute_accuracy(prediction_train, y_train)\n",
        "    accuracy_test       = compute_accuracy(prediction_test, y_test)\n",
        "\n",
        "    pred_train_0    = prediction_train[index_train_0]\n",
        "    pred_train_1    = prediction_train[index_train_1]\n",
        "\n",
        "    pred_test_0     = prediction_test[index_test_0]\n",
        "    pred_test_1     = prediction_test[index_test_1]\n",
        "\n",
        "    pred_0_train_mean_iteration[i]  = np.mean(pred_train_0)\n",
        "    pred_0_train_std_iteration[i]   = np.std(pred_train_0)\n",
        "    pred_1_train_mean_iteration[i]  = np.mean(pred_train_1)\n",
        "    pred_1_train_std_iteration[i]   = np.std(pred_train_1)\n",
        "\n",
        "    pred_0_test_mean_iteration[i]   = np.mean(pred_train_0)\n",
        "    pred_0_test_std_iteration[i]    = np.std(pred_train_0)\n",
        "    pred_1_test_mean_iteration[i]   = np.mean(pred_train_1)\n",
        "    pred_1_test_std_iteration[i]    = np.std(pred_train_1)\n",
        "\n",
        "    loss_train_iteration[i]         = loss_train\n",
        "    loss_test_iteration[i]          = loss_test\n",
        "\n",
        "    accuracy_train_iteration[i]     = accuracy_train \n",
        "    accuracy_test_iteration[i]      = accuracy_test"
      ],
      "execution_count": 25,
      "outputs": [
        {
          "output_type": "stream",
          "name": "stderr",
          "text": [
            "100%|██████████| 1000/1000 [00:50<00:00, 19.77it/s]\n"
          ]
        }
      ]
    },
    {
      "cell_type": "markdown",
      "metadata": {
        "id": "0tqBEPebOF5b"
      },
      "source": [
        "```console\n",
        "\n",
        "$ git commit -m \"YOUR MESSAGE\" assignment_03.ipynb\n",
        "\n",
        "```"
      ]
    },
    {
      "cell_type": "markdown",
      "metadata": {
        "id": "E96rsKHpOF5b"
      },
      "source": [
        "## plot curve"
      ]
    },
    {
      "cell_type": "code",
      "metadata": {
        "id": "gHalnU45OF5b"
      },
      "source": [
        "def plot_curve(data, x_label, y_label, title):\n",
        "    \n",
        "    plt.figure(figsize=(8, 6))\n",
        "    plt.title(title)\n",
        "\n",
        "    plt.plot(range(len(data)), data, '-', color='red')\n",
        "    \n",
        "    plt.xlabel(x_label)\n",
        "    plt.ylabel(y_label)\n",
        "\n",
        "    plt.tight_layout()\n",
        "    plt.show()"
      ],
      "execution_count": 26,
      "outputs": []
    },
    {
      "cell_type": "code",
      "metadata": {
        "id": "8CgzF_WbOF5b"
      },
      "source": [
        "def plot_curve2(data1, label_data1, data2, label_data2, x_label, y_label, title):\n",
        "    \n",
        "    plt.figure(figsize=(8, 6))\n",
        "    plt.title(title)\n",
        "\n",
        "    plt.plot(range(len(data1)), data1, '-', color = 'blue', label = label_data1)\n",
        "    plt.plot(range(len(data2)), data2, '-', color = 'red', label = label_data2)\n",
        "     \n",
        "    plt.xlabel(x_label)\n",
        "    plt.ylabel(y_label)\n",
        "\n",
        "    plt.tight_layout()\n",
        "    plt.show()"
      ],
      "execution_count": 27,
      "outputs": []
    },
    {
      "cell_type": "code",
      "metadata": {
        "id": "m0VrmoczOF5c"
      },
      "source": [
        "def plot_curve_error(data_mean, data_std, x_label, y_label, title):\n",
        "\n",
        "    plt.figure(figsize=(8, 6))\n",
        "    plt.title(title)\n",
        "\n",
        "    alpha = 0.3\n",
        "    \n",
        "    plt.plot(range(len(data_mean)), data_mean, '-', color = 'red')\n",
        "    plt.fill_between(range(len(data_mean)), data_mean - data_std, data_mean + data_std, facecolor = 'blue', alpha = alpha) \n",
        "    \n",
        "    plt.xlabel(x_label)\n",
        "    plt.ylabel(y_label)\n",
        "\n",
        "    plt.tight_layout()\n",
        "    plt.show()"
      ],
      "execution_count": 28,
      "outputs": []
    },
    {
      "cell_type": "code",
      "metadata": {
        "id": "XULJeBqjOF5c"
      },
      "source": [
        "def plot_curve_error2(data1_mean, data1_std, data1_label, data2_mean, data2_std, data2_label, x_label, y_label, title):\n",
        "    \n",
        "    plt.figure(figsize=(8, 6))\n",
        "    plt.title(title)\n",
        "\n",
        "    alpha = 0.3\n",
        "\n",
        "    plt.plot(range(len(data1_mean)), data1_mean, '-', color = 'blue', label = data1_label)\n",
        "    plt.fill_between(range(len(data1_mean)), data1_mean - data1_std, data1_mean + data1_std, facecolor = 'blue', alpha = alpha)\n",
        "\n",
        "    plt.plot(range(len(data2_mean)), data2_mean, '-', color = 'red', label = data2_label)\n",
        "    plt.fill_between(range(len(data2_mean)), data2_mean - data2_std, data2_mean + data2_std, facecolor = 'red', alpha = alpha)\n",
        "\n",
        "    plt.xlabel(x_label)\n",
        "    plt.ylabel(y_label)\n",
        "\n",
        "    plt.tight_layout()\n",
        "    plt.show()"
      ],
      "execution_count": 29,
      "outputs": []
    },
    {
      "cell_type": "markdown",
      "metadata": {
        "id": "fORdvtsxOF5c"
      },
      "source": [
        "## loss (training) curve"
      ]
    },
    {
      "cell_type": "code",
      "metadata": {
        "id": "ex-PTOaSOF5c",
        "colab": {
          "base_uri": "https://localhost:8080/",
          "height": 441
        },
        "outputId": "2b7bfe1c-14b2-4722-fcd3-521f58e8b639"
      },
      "source": [
        "plot_curve(loss_train_iteration, 'iteration', 'loss', 'loss (training) curve')"
      ],
      "execution_count": 30,
      "outputs": [
        {
          "output_type": "display_data",
          "data": {
            "image/png": "[encoded data removed]",
            "text/plain": [
              "<Figure size 576x432 with 1 Axes>"
            ]
          },
          "metadata": {
            "needs_background": "light"
          }
        }
      ]
    },
    {
      "cell_type": "markdown",
      "metadata": {
        "id": "oUOLlUIwOF5c"
      },
      "source": [
        "```console\n",
        "\n",
        "$ git commit -m \"YOUR MESSAGE\" assignment_03.ipynb\n",
        "\n",
        "```"
      ]
    },
    {
      "cell_type": "markdown",
      "metadata": {
        "id": "r9H59GblOF5c"
      },
      "source": [
        "## loss (testing) curve"
      ]
    },
    {
      "cell_type": "code",
      "metadata": {
        "id": "roEaQqdfOF5c",
        "colab": {
          "base_uri": "https://localhost:8080/",
          "height": 441
        },
        "outputId": "9e07f3bd-a9cc-4405-d820-b429ccb26020"
      },
      "source": [
        "plot_curve(loss_test_iteration, 'iteration', 'loss', 'loss (testing) curve')"
      ],
      "execution_count": 31,
      "outputs": [
        {
          "output_type": "display_data",
          "data": {
            "image/png": "[encoded data removed]",
            "text/plain": [
              "<Figure size 576x432 with 1 Axes>"
            ]
          },
          "metadata": {
            "needs_background": "light"
          }
        }
      ]
    },
    {
      "cell_type": "markdown",
      "metadata": {
        "id": "L39iXPAjOF5d"
      },
      "source": [
        "```console\n",
        "\n",
        "$ git commit -m \"YOUR MESSAGE\" assignment_03.ipynb\n",
        "\n",
        "```"
      ]
    },
    {
      "cell_type": "markdown",
      "metadata": {
        "id": "ADGH7-xSOF5d"
      },
      "source": [
        "## accuracy (training) curve"
      ]
    },
    {
      "cell_type": "code",
      "metadata": {
        "id": "fBLIRMnDOF5d",
        "colab": {
          "base_uri": "https://localhost:8080/",
          "height": 441
        },
        "outputId": "62be119f-38c5-4a4b-8335-bed300491150"
      },
      "source": [
        "plot_curve(accuracy_train_iteration, 'iteration', 'accuracy', 'accuracy (training) curve')"
      ],
      "execution_count": 32,
      "outputs": [
        {
          "output_type": "display_data",
          "data": {
            "image/png": "[encoded data removed]",
            "text/plain": [
              "<Figure size 576x432 with 1 Axes>"
            ]
          },
          "metadata": {
            "needs_background": "light"
          }
        }
      ]
    },
    {
      "cell_type": "markdown",
      "metadata": {
        "id": "x3piXx9wOF5d"
      },
      "source": [
        "```console\n",
        "\n",
        "$ git commit -m \"YOUR MESSAGE\" assignment_03.ipynb\n",
        "\n",
        "```"
      ]
    },
    {
      "cell_type": "markdown",
      "metadata": {
        "id": "_4JA6KKEOF5d"
      },
      "source": [
        "## accuracy (testing) curve"
      ]
    },
    {
      "cell_type": "code",
      "metadata": {
        "id": "LMvxRsToOF5d",
        "colab": {
          "base_uri": "https://localhost:8080/",
          "height": 441
        },
        "outputId": "d09f0308-6612-47d3-ca84-236cb3ff4183"
      },
      "source": [
        "plot_curve(accuracy_test_iteration, 'iteration', 'accuracy', 'accuracy (testing) curve')"
      ],
      "execution_count": 33,
      "outputs": [
        {
          "output_type": "display_data",
          "data": {
            "image/png": "[encoded data removed]",
            "text/plain": [
              "<Figure size 576x432 with 1 Axes>"
            ]
          },
          "metadata": {
            "needs_background": "light"
          }
        }
      ]
    },
    {
      "cell_type": "markdown",
      "metadata": {
        "id": "ch9oY0KQOF5d"
      },
      "source": [
        "```console\n",
        "\n",
        "$ git commit -m \"YOUR MESSAGE\" assignment_03.ipynb\n",
        "\n",
        "```"
      ]
    },
    {
      "cell_type": "markdown",
      "metadata": {
        "id": "O1JAIo1POF5e"
      },
      "source": [
        "## plot prediction values"
      ]
    },
    {
      "cell_type": "code",
      "metadata": {
        "id": "dojR9_-gOF5e",
        "colab": {
          "base_uri": "https://localhost:8080/",
          "height": 441
        },
        "outputId": "3f8edcbf-a70f-463a-abd9-04cd7ea57156"
      },
      "source": [
        "plot_curve_error(pred_0_train_mean_iteration, pred_0_train_std_iteration, 'iteration', 'prediction', 'prediction (training : 0)')"
      ],
      "execution_count": 34,
      "outputs": [
        {
          "output_type": "display_data",
          "data": {
            "image/png": "[encoded data removed]",
            "text/plain": [
              "<Figure size 576x432 with 1 Axes>"
            ]
          },
          "metadata": {
            "needs_background": "light"
          }
        }
      ]
    },
    {
      "cell_type": "markdown",
      "metadata": {
        "id": "T5esl6p0OF5e"
      },
      "source": [
        "```console\n",
        "\n",
        "$ git commit -m \"YOUR MESSAGE\" assignment_03.ipynb\n",
        "\n",
        "```"
      ]
    },
    {
      "cell_type": "code",
      "metadata": {
        "id": "mlBjSUKSOF5e",
        "colab": {
          "base_uri": "https://localhost:8080/",
          "height": 441
        },
        "outputId": "0b35c493-ad43-463b-c6ba-5ac40f959465"
      },
      "source": [
        "plot_curve_error(pred_1_train_mean_iteration, pred_1_train_std_iteration, 'iteration', 'prediction', 'prediction (training : 1)')"
      ],
      "execution_count": 35,
      "outputs": [
        {
          "output_type": "display_data",
          "data": {
            "image/png": "[encoded data removed]",
            "text/plain": [
              "<Figure size 576x432 with 1 Axes>"
            ]
          },
          "metadata": {
            "needs_background": "light"
          }
        }
      ]
    },
    {
      "cell_type": "markdown",
      "metadata": {
        "id": "YLGl94iKOF5e"
      },
      "source": [
        "```console\n",
        "\n",
        "$ git commit -m \"YOUR MESSAGE\" assignment_03.ipynb\n",
        "\n",
        "```"
      ]
    },
    {
      "cell_type": "code",
      "metadata": {
        "id": "YyWqIGlIOF5e",
        "colab": {
          "base_uri": "https://localhost:8080/",
          "height": 441
        },
        "outputId": "4106939f-9cb6-40b1-b3dd-81d4cd8f2ac7"
      },
      "source": [
        "plot_curve_error(pred_0_test_mean_iteration, pred_0_test_std_iteration, 'iteration', 'prediction', 'prediction (testing : 0)')"
      ],
      "execution_count": 36,
      "outputs": [
        {
          "output_type": "display_data",
          "data": {
            "image/png": "[encoded data removed]",
            "text/plain": [
              "<Figure size 576x432 with 1 Axes>"
            ]
          },
          "metadata": {
            "needs_background": "light"
          }
        }
      ]
    },
    {
      "cell_type": "markdown",
      "metadata": {
        "id": "WIXv-Gw8OF5e"
      },
      "source": [
        "```console\n",
        "\n",
        "$ git commit -m \"YOUR MESSAGE\" assignment_03.ipynb\n",
        "\n",
        "```"
      ]
    },
    {
      "cell_type": "code",
      "metadata": {
        "id": "oz6NVnRZOF5e",
        "colab": {
          "base_uri": "https://localhost:8080/",
          "height": 441
        },
        "outputId": "8280eb51-d3ff-4611-f8ca-d981753ca06e"
      },
      "source": [
        "plot_curve_error(pred_1_test_mean_iteration, pred_1_test_std_iteration, 'iteration', 'prediction', 'prediction (testing : 1)')"
      ],
      "execution_count": 37,
      "outputs": [
        {
          "output_type": "display_data",
          "data": {
            "image/png": "[encoded data removed]",
            "text/plain": [
              "<Figure size 576x432 with 1 Axes>"
            ]
          },
          "metadata": {
            "needs_background": "light"
          }
        }
      ]
    },
    {
      "cell_type": "markdown",
      "metadata": {
        "id": "94cFrXdBOF5f"
      },
      "source": [
        "```console\n",
        "\n",
        "$ git commit -m \"YOUR MESSAGE\" assignment_03.ipynb\n",
        "\n",
        "```"
      ]
    },
    {
      "cell_type": "markdown",
      "metadata": {
        "id": "8cYhQauAOF5f"
      },
      "source": [
        "## print values"
      ]
    },
    {
      "cell_type": "code",
      "metadata": {
        "id": "CRfAAy-aOF5f"
      },
      "source": [
        "def print_curve(data, index):\n",
        "\n",
        "    for i in range(len(index)):\n",
        "\n",
        "        idx = index[i]\n",
        "        val = data[idx]\n",
        "\n",
        "        print('index = %4d, value = %12.10f' % (idx, val))"
      ],
      "execution_count": 38,
      "outputs": []
    },
    {
      "cell_type": "markdown",
      "metadata": {
        "id": "HoxosTAVOF5f"
      },
      "source": [
        "## given iterations at which the values are presented"
      ]
    },
    {
      "cell_type": "code",
      "metadata": {
        "id": "Cl80Gy03OF5f"
      },
      "source": [
        "index = np.array([0, 100, 200, 300, 400, 500, 600, 700, 800, 900])"
      ],
      "execution_count": 39,
      "outputs": []
    },
    {
      "cell_type": "markdown",
      "metadata": {
        "id": "D81GdzlLOF5f"
      },
      "source": [
        "## training loss"
      ]
    },
    {
      "cell_type": "code",
      "metadata": {
        "id": "AnlmaUIDOF5f",
        "colab": {
          "base_uri": "https://localhost:8080/"
        },
        "outputId": "75c109df-1faa-4bde-bbfd-9e6cc690b01f"
      },
      "source": [
        "print_curve(loss_train_iteration, index)"
      ],
      "execution_count": 40,
      "outputs": [
        {
          "output_type": "stream",
          "name": "stdout",
          "text": [
            "index =    0, value = 0.6313742255\n",
            "index =  100, value = 1.2923834225\n",
            "index =  200, value = 1.4490723335\n",
            "index =  300, value = 1.5426643367\n",
            "index =  400, value = 1.6097326762\n",
            "index =  500, value = 1.6620762157\n",
            "index =  600, value = 1.7050284942\n",
            "index =  700, value = 1.7414617260\n",
            "index =  800, value = 1.7731020899\n",
            "index =  900, value = 1.8010688303\n"
          ]
        }
      ]
    },
    {
      "cell_type": "markdown",
      "metadata": {
        "id": "a3qGiFFsOF5f"
      },
      "source": [
        "```console\n",
        "\n",
        "$ git commit -m \"YOUR MESSAGE\" assignment_03.ipynb\n",
        "\n",
        "```"
      ]
    },
    {
      "cell_type": "markdown",
      "metadata": {
        "id": "WkqIxnyVOF5f"
      },
      "source": [
        "## testing loss"
      ]
    },
    {
      "cell_type": "code",
      "metadata": {
        "id": "WfPxq_JNOF5g",
        "colab": {
          "base_uri": "https://localhost:8080/"
        },
        "outputId": "e3fb8ea6-58dc-429d-ebb8-49600543991e"
      },
      "source": [
        "print_curve(loss_test_iteration, index)"
      ],
      "execution_count": 41,
      "outputs": [
        {
          "output_type": "stream",
          "name": "stdout",
          "text": [
            "index =    0, value = 0.6290171768\n",
            "index =  100, value = 1.2535704509\n",
            "index =  200, value = 1.4037690802\n",
            "index =  300, value = 1.4935798124\n",
            "index =  400, value = 1.5579757601\n",
            "index =  500, value = 1.6082531834\n",
            "index =  600, value = 1.6495219369\n",
            "index =  700, value = 1.6845350910\n",
            "index =  800, value = 1.7149478203\n",
            "index =  900, value = 1.7418336421\n"
          ]
        }
      ]
    },
    {
      "cell_type": "markdown",
      "metadata": {
        "id": "hmg1VavWOF5g"
      },
      "source": [
        "```console\n",
        "\n",
        "$ git commit -m \"YOUR MESSAGE\" assignment_03.ipynb\n",
        "\n",
        "```"
      ]
    },
    {
      "cell_type": "markdown",
      "metadata": {
        "id": "HbJ6Us8dOF5g"
      },
      "source": [
        "## training accuracy"
      ]
    },
    {
      "cell_type": "code",
      "metadata": {
        "id": "98TsdG5_OF5g",
        "colab": {
          "base_uri": "https://localhost:8080/"
        },
        "outputId": "f1cd1bf0-2e97-4dce-c4f4-f0e91fd5596f"
      },
      "source": [
        "print_curve(accuracy_train_iteration, index)"
      ],
      "execution_count": 42,
      "outputs": [
        {
          "output_type": "stream",
          "name": "stdout",
          "text": [
            "index =    0, value = 1.4690883990\n",
            "index =  100, value = 0.1997268265\n",
            "index =  200, value = 0.1513901902\n",
            "index =  300, value = 0.1290953936\n",
            "index =  400, value = 0.1154337783\n",
            "index =  500, value = 0.1059092832\n",
            "index =  600, value = 0.0987538255\n",
            "index =  700, value = 0.0931084919\n",
            "index =  800, value = 0.0884977886\n",
            "index =  900, value = 0.0846337909\n"
          ]
        }
      ]
    },
    {
      "cell_type": "markdown",
      "metadata": {
        "id": "bosTdk6NOF5g"
      },
      "source": [
        "```console\n",
        "\n",
        "$ git commit -m \"YOUR MESSAGE\" assignment_03.ipynb\n",
        "\n",
        "```"
      ]
    },
    {
      "cell_type": "markdown",
      "metadata": {
        "id": "d2kXTfQpOF5g"
      },
      "source": [
        "## testing accuracy"
      ]
    },
    {
      "cell_type": "code",
      "metadata": {
        "id": "IU_M5PuTOF5g",
        "colab": {
          "base_uri": "https://localhost:8080/"
        },
        "outputId": "53949b98-4ca3-4c46-f04c-16d618a83b78"
      },
      "source": [
        "print_curve(accuracy_test_iteration, index)"
      ],
      "execution_count": 43,
      "outputs": [
        {
          "output_type": "stream",
          "name": "stdout",
          "text": [
            "index =    0, value = 1.4774897665\n",
            "index =  100, value = 0.2145672094\n",
            "index =  200, value = 0.1643488217\n",
            "index =  300, value = 0.1409748847\n",
            "index =  400, value = 0.1265707314\n",
            "index =  500, value = 0.1164870313\n",
            "index =  600, value = 0.1088868394\n",
            "index =  700, value = 0.1028746035\n",
            "index =  800, value = 0.0979531114\n",
            "index =  900, value = 0.0938205527\n"
          ]
        }
      ]
    },
    {
      "cell_type": "markdown",
      "metadata": {
        "id": "c0iVhpxuOF5h"
      },
      "source": [
        "```console\n",
        "\n",
        "$ git commit -m \"YOUR MESSAGE\" assignment_03.ipynb\n",
        "\n",
        "```"
      ]
    },
    {
      "cell_type": "markdown",
      "metadata": {
        "id": "8RpQ4BcEOF5h"
      },
      "source": [
        "## functions for presenting the results"
      ]
    },
    {
      "cell_type": "code",
      "metadata": {
        "id": "lGlhh4lqOF5h"
      },
      "source": [
        "def function_results_01(x_train):\n",
        "    nRow    = 2\n",
        "    nCol    = 4\n",
        "    nPlot   = nRow * nCol\n",
        "    index_data_0 = np.array(range(nPlot))\n",
        "    plot_data_grid(x_train, index_data_0, nRow, nCol)\n",
        "    pass"
      ],
      "execution_count": 44,
      "outputs": []
    },
    {
      "cell_type": "code",
      "metadata": {
        "id": "pOUZ-B20OF5h"
      },
      "source": [
        "def function_results_02(x_train):\n",
        "    index_data_1 = index_data_0 + 5000\n",
        "    plot_data_grid(x_train, index_data_1, nRow, nCol)\n",
        "    pass"
      ],
      "execution_count": 47,
      "outputs": []
    },
    {
      "cell_type": "code",
      "metadata": {
        "id": "wX7ZX_cUOF5h"
      },
      "source": [
        "def function_results_03(data, x_label, y_label, title):\n",
        "    plt.figure(figsize=(8, 6))\n",
        "    plt.title(title)\n",
        "    mData = np.abs(2 - data)\n",
        "    plt.plot(range(len(data)), mData, '-', color='red')\n",
        "    \n",
        "    plt.xlabel(x_label)\n",
        "    plt.ylabel(y_label)\n",
        "\n",
        "    plt.tight_layout()\n",
        "    plt.show()\n",
        "    pass"
      ],
      "execution_count": 53,
      "outputs": []
    },
    {
      "cell_type": "code",
      "metadata": {
        "id": "q62chbtNOF5h"
      },
      "source": [
        "def function_results_04(data, x_label, y_label, title):\n",
        "    plt.figure(figsize=(8, 6))\n",
        "    plt.title(title)\n",
        "    mData = np.abs(2 - data)\n",
        "    plt.plot(range(len(data)), mData, '-', color='red')\n",
        "    \n",
        "    plt.xlabel(x_label)\n",
        "    plt.ylabel(y_label)\n",
        "\n",
        "    plt.tight_layout()\n",
        "    plt.show()\n",
        "    pass"
      ],
      "execution_count": 57,
      "outputs": []
    },
    {
      "cell_type": "code",
      "metadata": {
        "id": "61UeckguOF5h"
      },
      "source": [
        "def function_results_05(data, x_label, y_label, title):\n",
        "    plt.figure(figsize=(8, 6))\n",
        "    plt.title(title)\n",
        "    mData = np.abs(2 - data)\n",
        "    plt.plot(range(len(data)), mData, '-', color='red')\n",
        "    \n",
        "    plt.xlabel(x_label)\n",
        "    plt.ylabel(y_label)\n",
        "\n",
        "    plt.tight_layout()\n",
        "    plt.show()\n",
        "    pass"
      ],
      "execution_count": 59,
      "outputs": []
    },
    {
      "cell_type": "code",
      "metadata": {
        "id": "rHftyyS7OF5h"
      },
      "source": [
        "def function_results_06(data, x_label, y_label, title):\n",
        "    plt.figure(figsize=(8, 6))\n",
        "    plt.title(title)\n",
        "    mData = np.abs(2 - data)\n",
        "    plt.plot(range(len(data)), mData, '-', color='red')\n",
        "    \n",
        "    plt.xlabel(x_label)\n",
        "    plt.ylabel(y_label)\n",
        "\n",
        "    plt.tight_layout()\n",
        "    plt.show()\n",
        "    pass"
      ],
      "execution_count": 61,
      "outputs": []
    },
    {
      "cell_type": "code",
      "metadata": {
        "id": "91oel5bBOF5h"
      },
      "source": [
        "def function_results_07(data_mean, data_std, x_label, y_label, title):\n",
        "    plt.figure(figsize=(8, 6))\n",
        "    plt.title(title)\n",
        "\n",
        "    alpha = 0.3\n",
        "    \n",
        "    plt.plot(range(len(data_mean)), data_mean, '-', color = 'red')\n",
        "    plt.fill_between(range(len(data_mean)), data_mean - data_std, data_mean + data_std, facecolor = 'blue', alpha = alpha) \n",
        "    \n",
        "    plt.xlabel(x_label)\n",
        "    plt.ylabel(y_label)\n",
        "\n",
        "    plt.tight_layout()\n",
        "    plt.show()\n",
        "    pass"
      ],
      "execution_count": 63,
      "outputs": []
    },
    {
      "cell_type": "code",
      "metadata": {
        "id": "Sb6oCbjkOF5i"
      },
      "source": [
        "def function_results_08(data_mean, data_std, x_label, y_label, title):\n",
        "    plt.figure(figsize=(8, 6))\n",
        "    plt.title(title)\n",
        "\n",
        "    alpha = 0.3\n",
        "    mdata_mean = np.abs(1-data_mean)\n",
        "    plt.plot(range(len(data_mean)), mdata_mean, '-', color = 'red')\n",
        "    plt.fill_between(range(len(data_mean)), mdata_mean - data_std, mdata_mean + data_std, facecolor = 'blue', alpha = alpha) \n",
        "    \n",
        "    plt.xlabel(x_label)\n",
        "    plt.ylabel(y_label)\n",
        "\n",
        "    plt.tight_layout()\n",
        "    plt.show()\n",
        "    pass"
      ],
      "execution_count": 67,
      "outputs": []
    },
    {
      "cell_type": "code",
      "metadata": {
        "id": "a70ciO3POF5i"
      },
      "source": [
        "def function_results_09(data_mean, data_std, x_label, y_label, title):\n",
        "    plt.figure(figsize=(8, 6))\n",
        "    plt.title(title)\n",
        "\n",
        "    alpha = 0.3\n",
        "    \n",
        "    plt.plot(range(len(data_mean)), data_mean, '-', color = 'red')\n",
        "    plt.fill_between(range(len(data_mean)), data_mean - data_std, data_mean + data_std, facecolor = 'blue', alpha = alpha) \n",
        "    \n",
        "    plt.xlabel(x_label)\n",
        "    plt.ylabel(y_label)\n",
        "\n",
        "    plt.tight_layout()\n",
        "    plt.show()\n",
        "    pass"
      ],
      "execution_count": 69,
      "outputs": []
    },
    {
      "cell_type": "code",
      "metadata": {
        "id": "B-OraeiPOF5i"
      },
      "source": [
        "def function_results_10(data_mean, data_std, x_label, y_label, title):\n",
        "    plt.figure(figsize=(8, 6))\n",
        "    plt.title(title)\n",
        "\n",
        "    alpha = 0.3\n",
        "    \n",
        "    mdata_mean = np.abs(1-data_mean)\n",
        "    plt.plot(range(len(data_mean)), mdata_mean, '-', color = 'red')\n",
        "    plt.fill_between(range(len(data_mean)), mdata_mean - data_std, mdata_mean + data_std, facecolor = 'blue', alpha = alpha) \n",
        "    \n",
        "    plt.xlabel(x_label)\n",
        "    plt.ylabel(y_label)\n",
        "\n",
        "    plt.tight_layout()\n",
        "    plt.show()\n",
        "    pass"
      ],
      "execution_count": 73,
      "outputs": []
    },
    {
      "cell_type": "code",
      "metadata": {
        "id": "115G01nQOF5i"
      },
      "source": [
        "def function_results_11(*args):\n",
        "    \n",
        "    pass"
      ],
      "execution_count": null,
      "outputs": []
    },
    {
      "cell_type": "code",
      "metadata": {
        "id": "3ANNGr0DOF5i"
      },
      "source": [
        "def function_results_12(*args):\n",
        "    \n",
        "    pass"
      ],
      "execution_count": null,
      "outputs": []
    },
    {
      "cell_type": "code",
      "metadata": {
        "id": "x4j7dUSeOF5i"
      },
      "source": [
        "def function_results_13(*args):\n",
        "    \n",
        "    pass"
      ],
      "execution_count": null,
      "outputs": []
    },
    {
      "cell_type": "code",
      "metadata": {
        "id": "QOEMfnLwOF5i"
      },
      "source": [
        "def function_results_14(*args):\n",
        "    \n",
        "    pass"
      ],
      "execution_count": null,
      "outputs": []
    },
    {
      "cell_type": "markdown",
      "metadata": {
        "id": "Goz3IMRfOF5j"
      },
      "source": [
        "---"
      ]
    },
    {
      "cell_type": "markdown",
      "metadata": {
        "id": "T1k3cbEzOF5k"
      },
      "source": [
        "# RESULTS"
      ]
    },
    {
      "cell_type": "markdown",
      "metadata": {
        "id": "cHqdi4CrOF5k"
      },
      "source": [
        "---"
      ]
    },
    {
      "cell_type": "markdown",
      "metadata": {
        "id": "6B98OZt5OF5k"
      },
      "source": [
        "## # 01. plot examples of the input training images for '0'"
      ]
    },
    {
      "cell_type": "code",
      "metadata": {
        "id": "BDdWF_SXOF5k",
        "colab": {
          "base_uri": "https://localhost:8080/",
          "height": 456
        },
        "outputId": "8149e2a2-03e6-4516-fe59-1e5ed31bd2e4"
      },
      "source": [
        "function_results_01(x_train)"
      ],
      "execution_count": 45,
      "outputs": [
        {
          "output_type": "display_data",
          "data": {
            "image/png": "[encoded data removed]",
            "text/plain": [
              "<Figure size 864x432 with 8 Axes>"
            ]
          },
          "metadata": {
            "needs_background": "light"
          }
        }
      ]
    },
    {
      "cell_type": "markdown",
      "metadata": {
        "id": "_kSSwr_gOF5k"
      },
      "source": [
        "## # 02. plot examples of the input training images for '1'"
      ]
    },
    {
      "cell_type": "code",
      "metadata": {
        "id": "YiHLuufAOF5k",
        "colab": {
          "base_uri": "https://localhost:8080/",
          "height": 456
        },
        "outputId": "b6eebe9c-a98d-4bc2-94e1-2905af7edb90"
      },
      "source": [
        "function_results_02(x_train)"
      ],
      "execution_count": 48,
      "outputs": [
        {
          "output_type": "display_data",
          "data": {
            "image/png": "[encoded data removed]",
            "text/plain": [
              "<Figure size 864x432 with 8 Axes>"
            ]
          },
          "metadata": {
            "needs_background": "light"
          }
        }
      ]
    },
    {
      "cell_type": "markdown",
      "metadata": {
        "id": "F-DhLZ8cOF5k"
      },
      "source": [
        "## # 03. plot the training loss curve (x-axis: iteration, y-axis: loss)"
      ]
    },
    {
      "cell_type": "code",
      "metadata": {
        "id": "nijvJx93OF5k",
        "colab": {
          "base_uri": "https://localhost:8080/",
          "height": 441
        },
        "outputId": "c5b12382-a542-4ca8-d742-3f18d424202a"
      },
      "source": [
        "function_results_03(loss_train_iteration, 'iteration', 'loss', 'loss (training) curve')"
      ],
      "execution_count": 54,
      "outputs": [
        {
          "output_type": "display_data",
          "data": {
            "image/png": "[encoded data removed]",
            "text/plain": [
              "<Figure size 576x432 with 1 Axes>"
            ]
          },
          "metadata": {
            "needs_background": "light"
          }
        }
      ]
    },
    {
      "cell_type": "markdown",
      "metadata": {
        "id": "LMN8zjdwOF5k"
      },
      "source": [
        "## # 04. plot the testing loss curve (x-axis: iteration, y-axis: loss)"
      ]
    },
    {
      "cell_type": "code",
      "metadata": {
        "id": "zoX3cQQmOF5l",
        "colab": {
          "base_uri": "https://localhost:8080/",
          "height": 441
        },
        "outputId": "6a226d42-a4e4-483c-81e1-2eff67db8d2b"
      },
      "source": [
        "function_results_04(loss_test_iteration, 'iteration', 'loss', 'loss (testing) curve')"
      ],
      "execution_count": 58,
      "outputs": [
        {
          "output_type": "display_data",
          "data": {
            "image/png": "[encoded data removed]",
            "text/plain": [
              "<Figure size 576x432 with 1 Axes>"
            ]
          },
          "metadata": {
            "needs_background": "light"
          }
        }
      ]
    },
    {
      "cell_type": "markdown",
      "metadata": {
        "id": "I4cHFIwmOF5l"
      },
      "source": [
        "## # 05. plot the training accuracy curve (x-axis: iteration, y-axis: accuracy)"
      ]
    },
    {
      "cell_type": "code",
      "metadata": {
        "id": "ANuH12GIOF5l",
        "colab": {
          "base_uri": "https://localhost:8080/",
          "height": 441
        },
        "outputId": "509b0330-5527-4688-dae7-9611922f23c9"
      },
      "source": [
        "function_results_05(accuracy_train_iteration, 'iteration', 'accuracy', 'accuracy (training) curve')"
      ],
      "execution_count": 60,
      "outputs": [
        {
          "output_type": "display_data",
          "data": {
            "image/png": "[encoded data removed]",
            "text/plain": [
              "<Figure size 576x432 with 1 Axes>"
            ]
          },
          "metadata": {
            "needs_background": "light"
          }
        }
      ]
    },
    {
      "cell_type": "markdown",
      "metadata": {
        "id": "_2OzOQPXOF5l"
      },
      "source": [
        "## # 06. plot the testing accuracy curve (x-axis: iteration, y-axis: accuracy)"
      ]
    },
    {
      "cell_type": "code",
      "metadata": {
        "id": "pw0srNtCOF5l",
        "colab": {
          "base_uri": "https://localhost:8080/",
          "height": 441
        },
        "outputId": "eafc786e-8100-4231-9f3a-a3508edf23b9"
      },
      "source": [
        "function_results_06(accuracy_test_iteration, 'iteration', 'accuracy', 'accuracy (testing) curve')"
      ],
      "execution_count": 62,
      "outputs": [
        {
          "output_type": "display_data",
          "data": {
            "image/png": "[encoded data removed]",
            "text/plain": [
              "<Figure size 576x432 with 1 Axes>"
            ]
          },
          "metadata": {
            "needs_background": "light"
          }
        }
      ]
    },
    {
      "cell_type": "markdown",
      "metadata": {
        "id": "WOcR7aG6OF5l"
      },
      "source": [
        "## # 07. plot the training prediction curve (mean and std) for image 0 (x-axis: iteration, y-axis: prediction)"
      ]
    },
    {
      "cell_type": "code",
      "metadata": {
        "id": "y4XEsTcwOF5l",
        "colab": {
          "base_uri": "https://localhost:8080/",
          "height": 441
        },
        "outputId": "cac43103-060e-48b1-9bd9-84bcc3af3dda"
      },
      "source": [
        "function_results_07(pred_0_train_mean_iteration, pred_0_train_std_iteration, 'iteration', 'prediction', 'prediction (training : 0)')"
      ],
      "execution_count": 64,
      "outputs": [
        {
          "output_type": "display_data",
          "data": {
            "image/png": "[encoded data removed]",
            "text/plain": [
              "<Figure size 576x432 with 1 Axes>"
            ]
          },
          "metadata": {
            "needs_background": "light"
          }
        }
      ]
    },
    {
      "cell_type": "markdown",
      "metadata": {
        "id": "_dI1csadOF5l"
      },
      "source": [
        "## # 08. plot the training prediction curve (mean and std) for image 1 (x-axis: iteration, y-axis: prediction)"
      ]
    },
    {
      "cell_type": "code",
      "metadata": {
        "id": "NvH_YLMXOF5m",
        "colab": {
          "base_uri": "https://localhost:8080/",
          "height": 441
        },
        "outputId": "891f8d98-9bfb-4c24-d6b5-645a47fa10be"
      },
      "source": [
        "function_results_08(pred_1_train_mean_iteration, pred_1_train_std_iteration, 'iteration', 'prediction', 'prediction (training : 1)')"
      ],
      "execution_count": 68,
      "outputs": [
        {
          "output_type": "display_data",
          "data": {
            "image/png": "[encoded data removed]",
            "text/plain": [
              "<Figure size 576x432 with 1 Axes>"
            ]
          },
          "metadata": {
            "needs_background": "light"
          }
        }
      ]
    },
    {
      "cell_type": "markdown",
      "metadata": {
        "id": "zzXgmVbaOF5m"
      },
      "source": [
        "## # 09. plot the testing prediction curve (mean and std) for image 0 (x-axis: iteration, y-axis: prediction)"
      ]
    },
    {
      "cell_type": "code",
      "metadata": {
        "id": "Dgfc2yDpOF5m",
        "colab": {
          "base_uri": "https://localhost:8080/",
          "height": 441
        },
        "outputId": "2818aeb2-a3d9-4c34-dd64-29277a9d21c8"
      },
      "source": [
        "function_results_09(pred_0_test_mean_iteration, pred_0_test_std_iteration, 'iteration', 'prediction', 'prediction (testing : 0)')"
      ],
      "execution_count": 70,
      "outputs": [
        {
          "output_type": "display_data",
          "data": {
            "image/png": "[encoded data removed]",
            "text/plain": [
              "<Figure size 576x432 with 1 Axes>"
            ]
          },
          "metadata": {
            "needs_background": "light"
          }
        }
      ]
    },
    {
      "cell_type": "markdown",
      "metadata": {
        "id": "ud4TBrTNOF5m"
      },
      "source": [
        "## # 10. plot the testing prediction curve (mean and std) for image 1 (x-axis: iteration, y-axis: prediction)"
      ]
    },
    {
      "cell_type": "code",
      "metadata": {
        "id": "I5dsnkI_OF5m",
        "colab": {
          "base_uri": "https://localhost:8080/",
          "height": 441
        },
        "outputId": "3a7a11d8-24d7-4ca7-b735-4649c651b425"
      },
      "source": [
        "function_results_10(pred_1_test_mean_iteration, pred_1_test_std_iteration, 'iteration', 'prediction', 'prediction (testing : 1)')"
      ],
      "execution_count": 74,
      "outputs": [
        {
          "output_type": "display_data",
          "data": {
            "image/png": "[encoded data removed]",
            "text/plain": [
              "<Figure size 576x432 with 1 Axes>"
            ]
          },
          "metadata": {
            "needs_background": "light"
          }
        }
      ]
    },
    {
      "cell_type": "markdown",
      "metadata": {
        "id": "CbShsRcZOF5m"
      },
      "source": [
        "## # 11. print the training loss at iterations 0, 100, 200, 300, 400, 500, 600, 700, 800, 900"
      ]
    },
    {
      "cell_type": "code",
      "metadata": {
        "id": "lMzD5WQyOF5m",
        "outputId": "f4df0741-6543-4d6b-d78c-717e66ae8d80"
      },
      "source": [
        "function_results_11(...)"
      ],
      "execution_count": null,
      "outputs": [
        {
          "output_type": "stream",
          "name": "stdout",
          "text": [
            "index =    0, value = 0.0000000000\n",
            "index =  100, value = 0.0000000000\n",
            "index =  200, value = 0.0000000000\n",
            "index =  300, value = 0.0000000000\n",
            "index =  400, value = 0.0000000000\n",
            "index =  500, value = 0.0000000000\n",
            "index =  600, value = 0.0000000000\n",
            "index =  700, value = 0.0000000000\n",
            "index =  800, value = 0.0000000000\n",
            "index =  900, value = 0.0000000000\n"
          ]
        }
      ]
    },
    {
      "cell_type": "markdown",
      "metadata": {
        "id": "McBGXaVhOF5m"
      },
      "source": [
        "## # 12. print the testing loss at iterations 0, 100, 200, 300, 400, 500, 600, 700, 800, 900"
      ]
    },
    {
      "cell_type": "code",
      "metadata": {
        "id": "oLyw_4OZOF5n",
        "outputId": "fae3c427-0f7e-49aa-bfaf-d2e6ee36215d"
      },
      "source": [
        "function_results_12(...)"
      ],
      "execution_count": null,
      "outputs": [
        {
          "output_type": "stream",
          "name": "stdout",
          "text": [
            "index =    0, value = 0.0000000000\n",
            "index =  100, value = 0.0000000000\n",
            "index =  200, value = 0.0000000000\n",
            "index =  300, value = 0.0000000000\n",
            "index =  400, value = 0.0000000000\n",
            "index =  500, value = 0.0000000000\n",
            "index =  600, value = 0.0000000000\n",
            "index =  700, value = 0.0000000000\n",
            "index =  800, value = 0.0000000000\n",
            "index =  900, value = 0.0000000000\n"
          ]
        }
      ]
    },
    {
      "cell_type": "markdown",
      "metadata": {
        "id": "H-qTH0ycOF5n"
      },
      "source": [
        "## # 13. print the training accuracy at iterations 0, 100, 200, 300, 400, 500, 600, 700, 800, 900"
      ]
    },
    {
      "cell_type": "code",
      "metadata": {
        "id": "tWOm0lIgOF5n",
        "outputId": "c093c708-08e3-4cad-e991-9cefdcd0a3d5"
      },
      "source": [
        "function_results_13(...)"
      ],
      "execution_count": null,
      "outputs": [
        {
          "output_type": "stream",
          "name": "stdout",
          "text": [
            "index =    0, value = 0.0000000000\n",
            "index =  100, value = 0.0000000000\n",
            "index =  200, value = 0.0000000000\n",
            "index =  300, value = 0.0000000000\n",
            "index =  400, value = 0.0000000000\n",
            "index =  500, value = 0.0000000000\n",
            "index =  600, value = 0.0000000000\n",
            "index =  700, value = 0.0000000000\n",
            "index =  800, value = 0.0000000000\n",
            "index =  900, value = 0.0000000000\n"
          ]
        }
      ]
    },
    {
      "cell_type": "markdown",
      "metadata": {
        "id": "ZCmo_-5yOF5n"
      },
      "source": [
        "## # 14. print the testing accuracy at iterations 0, 100, 200, 300, 400, 500, 600, 700, 800, 900"
      ]
    },
    {
      "cell_type": "code",
      "metadata": {
        "id": "SJcydm-eOF5n",
        "outputId": "caac13bd-7375-4d96-f414-dc6083381795"
      },
      "source": [
        "function_results_14(...)"
      ],
      "execution_count": null,
      "outputs": [
        {
          "output_type": "stream",
          "name": "stdout",
          "text": [
            "index =    0, value = 0.0000000000\n",
            "index =  100, value = 0.0000000000\n",
            "index =  200, value = 0.0000000000\n",
            "index =  300, value = 0.0000000000\n",
            "index =  400, value = 0.0000000000\n",
            "index =  500, value = 0.0000000000\n",
            "index =  600, value = 0.0000000000\n",
            "index =  700, value = 0.0000000000\n",
            "index =  800, value = 0.0000000000\n",
            "index =  900, value = 0.0000000000\n"
          ]
        }
      ]
    }
  ]
}